{
 "cells": [
  {
   "cell_type": "markdown",
   "id": "9795dc69",
   "metadata": {},
   "source": [
    "# Geopandas"
   ]
  },
  {
   "cell_type": "code",
   "execution_count": null,
   "id": "f538507b",
   "metadata": {},
   "outputs": [],
   "source": [
    "import geopandas as gpd"
   ]
  },
  {
   "cell_type": "markdown",
   "id": "19c17309",
   "metadata": {},
   "source": [
    "## Read entire catalog into memory"
   ]
  },
  {
   "cell_type": "code",
   "execution_count": null,
   "id": "667cd71a",
   "metadata": {},
   "outputs": [],
   "source": [
    "# Remote test... a bit cumbersome compared to fsspec.open(url) but works!\n",
    "from io import BytesIO\n",
    "import obstore\n",
    "from pathlib import Path\n",
    "\n",
    "def remote2dataframe(url):\n",
    "  parsed_url = Path(url)\n",
    "  filename = parsed_url.name\n",
    "  url = str(parsed_url.parent)\n",
    "  store = obstore.store.from_url(url)\n",
    "  resp = obstore.get(store, filename)\n",
    "  python_bytes = resp.bytes().to_bytes()\n",
    "\n",
    "  return gpd.read_parquet(BytesIO(python_bytes))\n",
    "\n",
    "url = \"https://github.com/uw-cryo/stac-3dep-1m/releases/download/v0.2/catalogv2.parquet\"\n",
    "#url = \"https://raw.githubusercontent.com/scottyhq/files/refs/heads/main/catalogv2.parquet\"\n",
    "gf = remote2dataframe(url)\n",
    "gf.head(3)"
   ]
  },
  {
   "cell_type": "code",
   "execution_count": null,
   "id": "930bc2d3",
   "metadata": {},
   "outputs": [],
   "source": [
    "# Local file fast and easy:\n",
    "gf = gpd.read_parquet(\"../catalogv2.parquet\")\n",
    "gf.info()"
   ]
  },
  {
   "cell_type": "code",
   "execution_count": null,
   "id": "e78e8980",
   "metadata": {},
   "outputs": [],
   "source": [
    "gf.iloc[0]"
   ]
  },
  {
   "cell_type": "code",
   "execution_count": null,
   "id": "5e59075e",
   "metadata": {},
   "outputs": [],
   "source": [
    "gf.collection.value_counts()"
   ]
  },
  {
   "cell_type": "markdown",
   "id": "3f475699",
   "metadata": {},
   "source": [
    "## Extract specific collection"
   ]
  },
  {
   "cell_type": "code",
   "execution_count": null,
   "id": "8efe5f07",
   "metadata": {},
   "outputs": [],
   "source": [
    "gfc = gf[gf.collection == \"WA_KingCounty_2021_B21\"]\n",
    "gfc.explore(popup=True)"
   ]
  },
  {
   "cell_type": "code",
   "execution_count": null,
   "id": "2fd8428c",
   "metadata": {},
   "outputs": [],
   "source": [
    "# NOTE: should store links as absolute in STAC-GeoParquet\n",
    "gfc.iloc[0].links"
   ]
  },
  {
   "cell_type": "code",
   "execution_count": null,
   "id": "95c0d064",
   "metadata": {},
   "outputs": [],
   "source": [
    "gf.iloc[0]"
   ]
  }
 ],
 "metadata": {
  "kernelspec": {
   "display_name": "default",
   "language": "python",
   "name": "python3"
  },
  "language_info": {
   "codemirror_mode": {
    "name": "ipython",
    "version": 3
   },
   "file_extension": ".py",
   "mimetype": "text/x-python",
   "name": "python",
   "nbconvert_exporter": "python",
   "pygments_lexer": "ipython3",
   "version": "3.13.2"
  }
 },
 "nbformat": 4,
 "nbformat_minor": 5
}
