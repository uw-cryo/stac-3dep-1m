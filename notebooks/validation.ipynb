{
 "cells": [
  {
   "cell_type": "markdown",
   "id": "8c5a5482",
   "metadata": {},
   "source": [
    "# Compare point and subsetting using STAC GeoParquet compared to TNM API"
   ]
  },
  {
   "cell_type": "markdown",
   "id": "d0e97218",
   "metadata": {},
   "source": [
    "## 1. Sampling single tiff should be identical to sampling using GTI driver "
   ]
  },
  {
   "cell_type": "code",
   "execution_count": null,
   "id": "23539354",
   "metadata": {},
   "outputs": [],
   "source": [
    "%%bash\n",
    "\n",
    "URL=/Users/scotthenderson/GitHub/uw-cryo/stac-3dep-1m/catalog.gti\n",
    "gdal raster pixel-info --of=csv --position-crs=WGS84 $URL -107.83 39.19"
   ]
  },
  {
   "cell_type": "code",
   "execution_count": null,
   "id": "45aae9ac",
   "metadata": {},
   "outputs": [],
   "source": []
  }
 ],
 "metadata": {
  "kernelspec": {
   "display_name": "default",
   "language": "python",
   "name": "python3"
  },
  "language_info": {
   "codemirror_mode": {
    "name": "ipython",
    "version": 3
   },
   "file_extension": ".py",
   "mimetype": "text/x-python",
   "name": "python",
   "nbconvert_exporter": "python",
   "pygments_lexer": "ipython3",
   "version": "3.13.2"
  }
 },
 "nbformat": 4,
 "nbformat_minor": 5
}
