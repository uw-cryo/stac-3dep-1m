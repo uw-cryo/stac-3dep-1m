{
 "cells": [
  {
   "cell_type": "markdown",
   "id": "05e2e8e9",
   "metadata": {},
   "source": [
    "# Rustac + DuckDB "
   ]
  },
  {
   "cell_type": "code",
   "execution_count": null,
   "id": "bfc365fc",
   "metadata": {},
   "outputs": [],
   "source": [
    "import rustac\n",
    "import geopandas as gpd\n",
    "import cql2"
   ]
  },
  {
   "cell_type": "markdown",
   "id": "3c6225c5",
   "metadata": {},
   "source": [
    "## Local Search"
   ]
  },
  {
   "cell_type": "code",
   "execution_count": null,
   "id": "4153562a",
   "metadata": {},
   "outputs": [],
   "source": [
    "# Configure duckdb for searching\n",
    "client = rustac.DuckdbClient()"
   ]
  },
  {
   "cell_type": "code",
   "execution_count": null,
   "id": "b820c755",
   "metadata": {},
   "outputs": [],
   "source": [
    "# Generate CQL2 JSON syntax from shorthand\n",
    "cql2_json = cql2.parse_text(\"collection='WA_KingCounty_2021_B21'\").to_json()\n",
    "cql2_json"
   ]
  },
  {
   "cell_type": "code",
   "execution_count": null,
   "id": "e217474d",
   "metadata": {},
   "outputs": [],
   "source": [
    "table = client.search_to_arrow(\n",
    "    \"../catalogv2.parquet\",\n",
    "    #datetime=\"2023-12-01T00:00:00Z/..\",\n",
    "    filter=cql2_json,\n",
    ")\n",
    "\n",
    "# NOTE: from_arrow does not detect CRS\n",
    "gf = gpd.GeoDataFrame.from_arrow(table)\n",
    "gf = gf.set_crs(\"EPSG:4326\")"
   ]
  },
  {
   "cell_type": "code",
   "execution_count": null,
   "id": "22d2a344",
   "metadata": {},
   "outputs": [],
   "source": [
    "gf.info()"
   ]
  },
  {
   "cell_type": "code",
   "execution_count": null,
   "id": "6f32b3a0",
   "metadata": {},
   "outputs": [],
   "source": [
    "gf.explore()"
   ]
  },
  {
   "cell_type": "markdown",
   "id": "1ac97d91",
   "metadata": {},
   "source": [
    "## Remote search "
   ]
  },
  {
   "cell_type": "code",
   "execution_count": null,
   "id": "57d038a1",
   "metadata": {},
   "outputs": [],
   "source": [
    "table = client.search_to_arrow(\n",
    "    \"https://github.com/uw-cryo/stac-3dep-1m/releases/download/v0.2/catalogv2.parquet\",\n",
    "    #\"https://raw.githubusercontent.com/scottyhq/files/refs/heads/main/catalogv2.parquet\",\n",
    "    #datetime=\"2023-12-01T00:00:00Z/..\",\n",
    "    filter=cql2_json,\n",
    ")\n",
    "\n",
    "# NOTE: from_arrow does not detect CRS\n",
    "gf = gpd.GeoDataFrame.from_arrow(table)\n",
    "gf = gf.set_crs(\"EPSG:4326\")"
   ]
  },
  {
   "cell_type": "code",
   "execution_count": null,
   "id": "098aacae",
   "metadata": {},
   "outputs": [],
   "source": [
    "gf.info()"
   ]
  }
 ],
 "metadata": {
  "kernelspec": {
   "display_name": "default",
   "language": "python",
   "name": "python3"
  },
  "language_info": {
   "codemirror_mode": {
    "name": "ipython",
    "version": 3
   },
   "file_extension": ".py",
   "mimetype": "text/x-python",
   "name": "python",
   "nbconvert_exporter": "python",
   "pygments_lexer": "ipython3",
   "version": "3.13.2"
  }
 },
 "nbformat": 4,
 "nbformat_minor": 5
}
